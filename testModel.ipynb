{
 "cells": [
  {
   "cell_type": "code",
   "execution_count": 1,
   "metadata": {},
   "outputs": [],
   "source": [
    "import tensorflow as tf\n",
    "import os\n",
    "import numpy as np"
   ]
  },
  {
   "attachments": {},
   "cell_type": "markdown",
   "metadata": {},
   "source": [
    "## Load Model"
   ]
  },
  {
   "cell_type": "code",
   "execution_count": 2,
   "metadata": {},
   "outputs": [],
   "source": [
    "model = tf.saved_model.load('translator')"
   ]
  },
  {
   "cell_type": "code",
   "execution_count": 7,
   "metadata": {},
   "outputs": [
    {
     "name": "stdout",
     "output_type": "stream",
     "text": [
      "cookies \n",
      " combine flour sugar baking soda and salt in a large bowl \n",
      " beat butter sugar and egg in a large bowl with an electric mixer on medium speed until light and fluffy \n",
      " add eggs one at a time beating well after each addition \n",
      " add flour mixture\n"
     ]
    }
   ],
   "source": [
    "result = model.translate(['sugar, salt, eggs, vanilla'], ['cookies'])\n",
    "steps = result[0].numpy().decode()\n",
    "steps = steps.split('step')\n",
    "for step in steps:\n",
    "    print(step)"
   ]
  }
 ],
 "metadata": {
  "kernelspec": {
   "display_name": "venv",
   "language": "python",
   "name": "python3"
  },
  "language_info": {
   "codemirror_mode": {
    "name": "ipython",
    "version": 3
   },
   "file_extension": ".py",
   "mimetype": "text/x-python",
   "name": "python",
   "nbconvert_exporter": "python",
   "pygments_lexer": "ipython3",
   "version": "3.9.13"
  },
  "orig_nbformat": 4,
  "vscode": {
   "interpreter": {
    "hash": "b3b175500661b34c9810fb06f07c17ae229594eb81df44f5824523195c835e54"
   }
  }
 },
 "nbformat": 4,
 "nbformat_minor": 2
}
