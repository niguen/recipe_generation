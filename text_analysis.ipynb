{
 "cells": [
  {
   "cell_type": "code",
   "execution_count": 9,
   "metadata": {},
   "outputs": [],
   "source": [
    "import pandas as pd\n",
    "import os\n",
    "import ast"
   ]
  },
  {
   "cell_type": "code",
   "execution_count": 10,
   "metadata": {},
   "outputs": [],
   "source": [
    "text_path = os.path.join('data', 'recipe_dataset.txt')\n",
    "# Using readlines()\n",
    "file1 = open(text_path, 'r')\n",
    "Lines = file1.readlines()\n",
    "\n",
    "names = []\n",
    "ingredients = []\n",
    "steps = []\n",
    "\n",
    "count = 0\n",
    "# Strips the newline character\n",
    "for line in Lines:\n",
    "    pieces = line.split('\\t')\n",
    "    names.append(pieces[0])\n",
    "    ingredients.append(pieces[1])\n",
    "    steps.append(pieces[2])"
   ]
  },
  {
   "cell_type": "code",
   "execution_count": 11,
   "metadata": {},
   "outputs": [],
   "source": [
    "# loading in all the essentials for data manipulation\n",
    "import pandas as pd\n",
    "import numpy as np\n",
    "import nltk\n",
    "#load in the NTLK stopwords to remove articles, preposition and other words that are not actionable\n",
    "from nltk.corpus import stopwords\n",
    "# This allows to create individual objects from a bog of words\n",
    "from nltk.tokenize import word_tokenize\n",
    "# Lemmatizer helps to reduce words to the base formfrom nltk.stem import WordNetLemmatizer\n",
    "# Ngrams allows to group words in common pairs or trigrams..etc\n",
    "from nltk import ngrams\n",
    "# We can use counter to count the objects from collections\n",
    "from collections import Counter\n",
    "# This is our visual library\n",
    "import seaborn as sns\n",
    "import matplotlib.pyplot as plt"
   ]
  },
  {
   "cell_type": "code",
   "execution_count": 12,
   "metadata": {},
   "outputs": [],
   "source": [
    "def word_frequency(sentence):\n",
    "    # joins all the sentenses\n",
    "    # sentence = ' '.join(sentence)\n",
    "    # creates tokens, creates lower class, removes numbers and lemmatizes the words\n",
    "    \n",
    "    # python -m nltk.downloader popular\n",
    "    new_tokens = word_tokenize(sentence)\n",
    "    new_tokens = [t.lower() for t in new_tokens]\n",
    "    new_tokens =[t for t in new_tokens if t not in stopwords.words('english')]\n",
    "    new_tokens = [t for t in new_tokens if t.isalpha()]\n",
    "    lemmatizer = nltk.WordNetLemmatizer()\n",
    "    new_tokens =[lemmatizer.lemmatize(t) for t in new_tokens]\n",
    "    #counts the words, pairs and trigrams\n",
    "    counted = Counter(new_tokens)\n",
    "    # counted_2= Counter(ngrams(new_tokens,2))\n",
    "    # counted_3= Counter(ngrams(new_tokens,3))\n",
    "    #creates 3 data frames and returns thems\n",
    "    word_freq = pd.DataFrame(counted.items(),columns=['word','frequency']).sort_values(by='frequency',ascending=False)\n",
    "    # word_pairs =pd.DataFrame(counted_2.items(),columns=['pairs','frequency']).sort_values(by='frequency',ascending=False)\n",
    "    # trigrams =pd.DataFrame(counted_3.items(),columns=['trigrams','frequency']).sort_values(by='frequency',ascending=False)\n",
    "    return word_freq # ,word_pairs,trigrams"
   ]
  },
  {
   "cell_type": "code",
   "execution_count": 13,
   "metadata": {},
   "outputs": [],
   "source": [
    "from collections import Counter\n",
    "def print_analysis(text):\n",
    "    \n",
    "    freq = Counter(text.split()).most_common()\n",
    "    df = pd.DataFrame(freq, columns=['word', 'count'])\n",
    "    df = df.sort_values('count', ascending=True)\n",
    "    grouped_frequency = df.groupby('count').count()\n",
    "\n",
    "    print(f'There are {len(steps)} recipes in the dataset')\n",
    "    print(f'There are {df.shape[0]} different words in the dataset')\n",
    "    print(f\"There are {grouped_frequency.loc[grouped_frequency.index == 1].iloc[0]['word']} words only once in the dataset\")\n"
   ]
  },
  {
   "cell_type": "code",
   "execution_count": 14,
   "metadata": {},
   "outputs": [
    {
     "name": "stdout",
     "output_type": "stream",
     "text": [
      "Steps:\n",
      "There are 36652 recipes in the dataset\n",
      "There are 24175 different words in the dataset\n",
      "There are 12594 words only once in the dataset\n"
     ]
    }
   ],
   "source": [
    "all_steps = [step for step in steps]\n",
    "step_string = ' '.join(all_steps)   \n",
    "print('Steps:')\n",
    "print_analysis(step_string)"
   ]
  },
  {
   "cell_type": "code",
   "execution_count": 15,
   "metadata": {},
   "outputs": [
    {
     "name": "stdout",
     "output_type": "stream",
     "text": [
      "Ingredients:\n",
      "There are 36652 recipes in the dataset\n",
      "There are 2683 different words in the dataset\n",
      "There are 673 words only once in the dataset\n"
     ]
    }
   ],
   "source": [
    "all_ingredients = [ingredient for ingredient in ingredients]\n",
    "ingredient_strings = ' '.join(all_ingredients)   \n",
    "print('Ingredients:')\n",
    "print_analysis(ingredient_strings)"
   ]
  },
  {
   "cell_type": "code",
   "execution_count": 16,
   "metadata": {},
   "outputs": [
    {
     "name": "stdout",
     "output_type": "stream",
     "text": [
      "Names:\n",
      "There are 36652 recipes in the dataset\n",
      "There are 8919 different words in the dataset\n",
      "There are 4788 words only once in the dataset\n"
     ]
    }
   ],
   "source": [
    "all_names = [name for name in names]\n",
    "name_strings = ' '.join(all_names)   \n",
    "print('Names:')\n",
    "print_analysis(name_strings)"
   ]
  },
  {
   "cell_type": "code",
   "execution_count": 18,
   "metadata": {},
   "outputs": [
    {
     "data": {
      "text/html": [
       "<div>\n",
       "<style scoped>\n",
       "    .dataframe tbody tr th:only-of-type {\n",
       "        vertical-align: middle;\n",
       "    }\n",
       "\n",
       "    .dataframe tbody tr th {\n",
       "        vertical-align: top;\n",
       "    }\n",
       "\n",
       "    .dataframe thead th {\n",
       "        text-align: right;\n",
       "    }\n",
       "</style>\n",
       "<table border=\"1\" class=\"dataframe\">\n",
       "  <thead>\n",
       "    <tr style=\"text-align: right;\">\n",
       "      <th></th>\n",
       "      <th>word</th>\n",
       "    </tr>\n",
       "    <tr>\n",
       "      <th>count</th>\n",
       "      <th></th>\n",
       "    </tr>\n",
       "  </thead>\n",
       "  <tbody>\n",
       "    <tr>\n",
       "      <th>1</th>\n",
       "      <td>12594</td>\n",
       "    </tr>\n",
       "    <tr>\n",
       "      <th>2</th>\n",
       "      <td>2933</td>\n",
       "    </tr>\n",
       "    <tr>\n",
       "      <th>3</th>\n",
       "      <td>1430</td>\n",
       "    </tr>\n",
       "    <tr>\n",
       "      <th>4</th>\n",
       "      <td>778</td>\n",
       "    </tr>\n",
       "    <tr>\n",
       "      <th>5</th>\n",
       "      <td>646</td>\n",
       "    </tr>\n",
       "    <tr>\n",
       "      <th>...</th>\n",
       "      <td>...</td>\n",
       "    </tr>\n",
       "    <tr>\n",
       "      <th>118757</th>\n",
       "      <td>1</td>\n",
       "    </tr>\n",
       "    <tr>\n",
       "      <th>188125</th>\n",
       "      <td>1</td>\n",
       "    </tr>\n",
       "    <tr>\n",
       "      <th>189764</th>\n",
       "      <td>1</td>\n",
       "    </tr>\n",
       "    <tr>\n",
       "      <th>213037</th>\n",
       "      <td>1</td>\n",
       "    </tr>\n",
       "    <tr>\n",
       "      <th>393326</th>\n",
       "      <td>1</td>\n",
       "    </tr>\n",
       "  </tbody>\n",
       "</table>\n",
       "<p>1094 rows × 1 columns</p>\n",
       "</div>"
      ],
      "text/plain": [
       "         word\n",
       "count        \n",
       "1       12594\n",
       "2        2933\n",
       "3        1430\n",
       "4         778\n",
       "5         646\n",
       "...       ...\n",
       "118757      1\n",
       "188125      1\n",
       "189764      1\n",
       "213037      1\n",
       "393326      1\n",
       "\n",
       "[1094 rows x 1 columns]"
      ]
     },
     "execution_count": 18,
     "metadata": {},
     "output_type": "execute_result"
    }
   ],
   "source": [
    "# Words that appear < 100 times \n",
    "freq = Counter(step_string.split()).most_common()\n",
    "df = pd.DataFrame(freq, columns=['word', 'count'])\n",
    "df = df.sort_values('count', ascending=True)\n",
    "grouped_frequency = df.groupby('count').count()\n",
    "grouped_frequency"
   ]
  }
 ],
 "metadata": {
  "kernelspec": {
   "display_name": "venv",
   "language": "python",
   "name": "python3"
  },
  "language_info": {
   "codemirror_mode": {
    "name": "ipython",
    "version": 3
   },
   "file_extension": ".py",
   "mimetype": "text/x-python",
   "name": "python",
   "nbconvert_exporter": "python",
   "pygments_lexer": "ipython3",
   "version": "3.9.13"
  },
  "orig_nbformat": 4
 },
 "nbformat": 4,
 "nbformat_minor": 2
}
